# pandas 사용하기
import numpy as np # numpy 도 함께 import
import pandas as pd

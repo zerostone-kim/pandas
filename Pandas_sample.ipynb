{
  "nbformat": 4,
  "nbformat_minor": 0,
  "metadata": {
    "colab": {
      "name": "Pandas_sample.ipynb",
      "provenance": [],
      "authorship_tag": "ABX9TyPSTGGgdJn5TXu/v18CwPvQ",
      "include_colab_link": true
    },
    "kernelspec": {
      "name": "python3",
      "display_name": "Python 3"
    }
  },
  "cells": [
    {
      "cell_type": "markdown",
      "metadata": {
        "id": "view-in-github",
        "colab_type": "text"
      },
      "source": [
        "<a href=\"https://colab.research.google.com/github/zerostone-kim/pandas/blob/master/Pandas_sample.ipynb\" target=\"_parent\"><img src=\"https://colab.research.google.com/assets/colab-badge.svg\" alt=\"Open In Colab\"/></a>"
      ]
    },
    {
      "cell_type": "markdown",
      "metadata": {
        "id": "2BoDu-TR9EJw",
        "colab_type": "text"
      },
      "source": [
        "- Pasdas import"
      ]
    },
    {
      "cell_type": "code",
      "metadata": {
        "id": "Jf_PEoCW8zgm",
        "colab_type": "code",
        "colab": {}
      },
      "source": [
        "# pandas 사용하기\n",
        "import numpy as np # numpy 도 함께 import\n",
        "import pandas as pd"
      ],
      "execution_count": 0,
      "outputs": []
    },
    {
      "cell_type": "markdown",
      "metadata": {
        "id": "tZDxaiMs9Xu3",
        "colab_type": "text"
      },
      "source": [
        ""
      ]
    },
    {
      "cell_type": "code",
      "metadata": {
        "id": "sK_xHKbm9DyH",
        "colab_type": "code",
        "colab": {}
      },
      "source": [
        ""
      ],
      "execution_count": 0,
      "outputs": []
    }
  ]
}